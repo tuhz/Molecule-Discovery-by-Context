{
 "cells": [
  {
   "attachments": {},
   "cell_type": "markdown",
   "metadata": {},
   "source": [
    "# Find K-Nearest Neighbors of the Known Molecules"
   ]
  },
  {
   "cell_type": "code",
   "execution_count": null,
   "metadata": {},
   "outputs": [],
   "source": [
    "import pandas as pd\n",
    "import numpy as np\n",
    "import pickle\n",
    "import os"
   ]
  },
  {
   "cell_type": "code",
   "execution_count": null,
   "metadata": {},
   "outputs": [],
   "source": [
    "data_dir = './'\n",
    "known_file = os.path.join(data_dir, \"known.pkl\")\n",
    "relevant_file = os.path.join(data_dir, \"relevant.pkl\")\n",
    "random_file = os.path.join(data_dir, \"random.pkl\")\n",
    "\n",
    "target_file = known_file\n",
    "candidate_file = random_file\n",
    "\n",
    "with open(target_file, 'rb') as fin:\n",
    "    target_emb_dict = pickle.load(fin)\n",
    "with open(candidate_file, 'rb') as fin:\n",
    "    candidate_emb_dict = pickle.load(fin)"
   ]
  },
  {
   "cell_type": "code",
   "execution_count": null,
   "metadata": {},
   "outputs": [],
   "source": [
    "# dist_measurement = \"Euclidean Distance\"\n",
    "dist_measurement = \"Cosine Similarity\"\n",
    "\n",
    "def distance(u, v, f):\n",
    "    if f == \"Euclidean Distance\":\n",
    "        return euclidean_distance(u, v)\n",
    "    elif f == \"Cosine Similarity\":\n",
    "        return cosine_similarity(u, v)\n",
    "    else:\n",
    "        raise ValueError(\"Unknown distance metric: \" + f)\n",
    "\n",
    "def euclidean_distance(u, v):\n",
    "    return np.linalg.norm(u - v)\n",
    "\n",
    "def cosine_similarity(u, v):\n",
    "    return np.dot(u, v) / (np.linalg.norm(u) * np.linalg.norm(v))"
   ]
  },
  {
   "cell_type": "code",
   "execution_count": null,
   "metadata": {},
   "outputs": [],
   "source": [
    "res = sorted(([target_molecule, distance(target_emb, candidate_emb, dist_measurement), candidate_molecule] \n",
    "                for target_molecule, target_emb in target_emb_dict.items() \n",
    "                for candidate_molecule, candidate_emb in candidate_emb_dict.items()),\n",
    "             reverse= dist_measurement == \"Cosine Similarity\")\n"
   ]
  },
  {
   "cell_type": "code",
   "execution_count": null,
   "metadata": {},
   "outputs": [],
   "source": [
    "columns = list()\n",
    "if target_file == known_file:\n",
    "    columns.append(\"Known Molecule\")\n",
    "else:\n",
    "    raise ValueError(\"Unknown target file\" + target_file)\n",
    "columns.append(dist_measurement)\n",
    "if candidate_file == random_file:\n",
    "    columns.append(\"Random Valid Molecule\")\n",
    "elif candidate_file == relevant_file:\n",
    "    columns.append(\"Relevant ENA Molecule\")\n",
    "else:\n",
    "    raise ValueError(\"Unknown candidate file\" + candidate_file)\n",
    "\n",
    "df = pd.DataFrame(res, columns=columns)\n",
    "df"
   ]
  },
  {
   "cell_type": "code",
   "execution_count": null,
   "metadata": {},
   "outputs": [],
   "source": [
    "outfile = \"\"\n",
    "if target_file == known_file:\n",
    "    outfile += \"Known-\"\n",
    "else:\n",
    "    raise ValueError(\"Unknown target file\" + target_file)\n",
    "if candidate_file == random_file:\n",
    "    outfile += \"Random_Valid-\"\n",
    "elif candidate_file == relevant_file:\n",
    "    outfile += \"Relevant_ENA-\"\n",
    "else:\n",
    "    raise ValueError(\"Unknown candidate file\" + candidate_file)\n",
    "outfile += \"molecules-abs-\"\n",
    "if dist_measurement == 'Cosine Similarity':\n",
    "    outfile += 'cosine'\n",
    "elif dist_measurement == 'Euclidean Distance':\n",
    "    outfile += 'euclidean'\n",
    "else:\n",
    "    raise ValueError(\"Unknown distance measurement:\" + dist_measurement)\n",
    "\n",
    "df.to_csv(os.path.join(data_dir, f\"{outfile}-all.csv\"), index=False)"
   ]
  },
  {
   "cell_type": "code",
   "execution_count": null,
   "metadata": {},
   "outputs": [],
   "source": [
    "k = 20\n",
    "df_topk = df.groupby(columns[0]).head(k).reset_index(drop=True)\n",
    "df_topk"
   ]
  },
  {
   "cell_type": "code",
   "execution_count": null,
   "metadata": {},
   "outputs": [],
   "source": [
    "df_topk.to_csv(os.path.join(data_dir, f\"{outfile}-top{k}.csv\"), index=False)"
   ]
  }
 ],
 "metadata": {
  "kernelspec": {
   "display_name": "Python 3.9.15 ('pytorch39')",
   "language": "python",
   "name": "python3"
  },
  "language_info": {
   "codemirror_mode": {
    "name": "ipython",
    "version": 3
   },
   "file_extension": ".py",
   "mimetype": "text/x-python",
   "name": "python",
   "nbconvert_exporter": "python",
   "pygments_lexer": "ipython3",
   "version": "3.9.16"
  },
  "orig_nbformat": 4,
  "vscode": {
   "interpreter": {
    "hash": "022eef4a8379e749905971a853fd95b784ae657b59e2a838150e96e1a9109585"
   }
  }
 },
 "nbformat": 4,
 "nbformat_minor": 2
}
